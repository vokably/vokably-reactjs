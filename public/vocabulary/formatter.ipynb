{
 "cells": [
  {
   "cell_type": "code",
   "execution_count": 1,
   "metadata": {},
   "outputs": [],
   "source": [
    "import os, csv, json"
   ]
  },
  {
   "cell_type": "code",
   "execution_count": 2,
   "metadata": {},
   "outputs": [
    {
     "data": {
      "text/plain": [
       "['clothes.json',\n",
       " 'family.json',\n",
       " 'bathroom.json',\n",
       " 'chapter2.json',\n",
       " 'chapter6.json',\n",
       " 'chapter4.json',\n",
       " 'expression.json',\n",
       " 'chapter1.json',\n",
       " 'chapter5.json',\n",
       " 'chapter3.json',\n",
       " 'ordinal.json',\n",
       " 'shopping-center.json',\n",
       " 'time.json']"
      ]
     },
     "execution_count": 2,
     "metadata": {},
     "output_type": "execute_result"
    }
   ],
   "source": [
    "listfiles = os.listdir('english')\n",
    "listfiles"
   ]
  },
  {
   "cell_type": "code",
   "execution_count": 4,
   "metadata": {},
   "outputs": [],
   "source": [
    "with open(\"en-no.csv\", 'w') as new_file:\n",
    "    for f in listfiles:\n",
    "        if f.endswith(\".json\"):\n",
    "            with open('english/' + f) as json_file:\n",
    "                data = json.load(json_file)\n",
    "\n",
    "                writer = csv.DictWriter(new_file, fieldnames = [\"norwegian\", \"english\", \"chapter\"])\n",
    "                new_file.write(\"a,b,chapter\\n\")\n",
    "                for word in data:\n",
    "                    writer.writerow(word)\n",
    "\n",
    "            \n"
   ]
  }
 ],
 "metadata": {
  "kernelspec": {
   "display_name": "greenaffair",
   "language": "python",
   "name": "python3"
  },
  "language_info": {
   "codemirror_mode": {
    "name": "ipython",
    "version": 3
   },
   "file_extension": ".py",
   "mimetype": "text/x-python",
   "name": "python",
   "nbconvert_exporter": "python",
   "pygments_lexer": "ipython3",
   "version": "3.10.9"
  },
  "orig_nbformat": 4,
  "vscode": {
   "interpreter": {
    "hash": "f4c56067cc5713a3da03d09eb791ecc5565981cee461aba50a6b25e2e4ed35e9"
   }
  }
 },
 "nbformat": 4,
 "nbformat_minor": 2
}
