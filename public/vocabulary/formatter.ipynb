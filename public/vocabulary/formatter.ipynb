{
 "cells": [
  {
   "cell_type": "code",
   "execution_count": 1,
   "metadata": {},
   "outputs": [],
   "source": [
    "import os, csv, json"
   ]
  },
  {
   "cell_type": "code",
   "execution_count": 5,
   "metadata": {},
   "outputs": [
    {
     "data": {
      "text/plain": [
       "['chapter3.json',\n",
       " 'time.json',\n",
       " 'chapter1.json',\n",
       " 'expression.json',\n",
       " 'bathroom.json',\n",
       " 'clothes.json',\n",
       " 'chapter2.json',\n",
       " 'chapter6.json',\n",
       " 'ordinal.json',\n",
       " 'family.json',\n",
       " 'chapter4.json',\n",
       " 'chapter5.json',\n",
       " 'chapter3.csv',\n",
       " 'csv',\n",
       " 'shopping-center.json']"
      ]
     },
     "execution_count": 5,
     "metadata": {},
     "output_type": "execute_result"
    }
   ],
   "source": [
    "listfiles = os.listdir('english')\n",
    "listfiles"
   ]
  },
  {
   "cell_type": "code",
   "execution_count": 13,
   "metadata": {},
   "outputs": [],
   "source": [
    "for f in listfiles:\n",
    "    if f.endswith(\".json\"):\n",
    "        with open('english/' + f) as json_file:\n",
    "            data = json.load(json_file)\n",
    "\n",
    "        with open('english/' + f[:-5] + \".csv\", 'w') as new_file:\n",
    "            writer = csv.DictWriter(new_file, fieldnames = [\"norwegian\", \"english\"])\n",
    "            new_file.write(\"a,b\\n\")\n",
    "            for word in data:\n",
    "                writer.writerow(word)\n",
    "\n",
    "            \n"
   ]
  }
 ],
 "metadata": {
  "kernelspec": {
   "display_name": "Python 3",
   "language": "python",
   "name": "python3"
  },
  "language_info": {
   "codemirror_mode": {
    "name": "ipython",
    "version": 3
   },
   "file_extension": ".py",
   "mimetype": "text/x-python",
   "name": "python",
   "nbconvert_exporter": "python",
   "pygments_lexer": "ipython3",
   "version": "3.8.10"
  },
  "orig_nbformat": 4,
  "vscode": {
   "interpreter": {
    "hash": "916dbcbb3f70747c44a77c7bcd40155683ae19c65e1c03b4aa3499c5328201f1"
   }
  }
 },
 "nbformat": 4,
 "nbformat_minor": 2
}
