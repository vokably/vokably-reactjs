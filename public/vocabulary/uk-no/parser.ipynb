{
 "cells": [
  {
   "cell_type": "code",
   "execution_count": 59,
   "metadata": {},
   "outputs": [],
   "source": [
    "import pandas as pd\n",
    "import time"
   ]
  },
  {
   "cell_type": "code",
   "execution_count": 45,
   "metadata": {},
   "outputs": [],
   "source": [
    "df = pd.read_html('https://www.ntnu.edu/web/learnnow-ua/1/vocabulary', encoding='UTF-8')"
   ]
  },
  {
   "cell_type": "code",
   "execution_count": 56,
   "metadata": {},
   "outputs": [],
   "source": [
    "def to_utf8(v):\n",
    "    v = v.replace(\"Ã¥\", \"å\")\n",
    "    v = v.replace(\"Ã¦\", \"æ\")\n",
    "    v = v.replace(\"Ã¸\", \"ø\")\n",
    "    v = v.replace(\"Ã…\", \"Å\")\n",
    "    v = v.replace(\"Ã†\", \"Æ\")\n",
    "    v = v.replace(\"Ã˜\", \"Ø\")\n",
    "    return v"
   ]
  },
  {
   "attachments": {},
   "cell_type": "markdown",
   "metadata": {},
   "source": [
    "# Combine first and second column"
   ]
  },
  {
   "cell_type": "code",
   "execution_count": 55,
   "metadata": {},
   "outputs": [],
   "source": [
    "def get_column_1(df):\n",
    "    first_column = []\n",
    "    for v in df[df.columns[0]]:\n",
    "        if isinstance(v, str):\n",
    "            first_column.append(to_utf8(v))\n",
    "        else:\n",
    "            first_column.append('')\n",
    "    return first_column"
   ]
  },
  {
   "cell_type": "code",
   "execution_count": 53,
   "metadata": {},
   "outputs": [],
   "source": [
    "def get_column_2(df):\n",
    "    second_column = []\n",
    "    for v in df[df.columns[1]]:\n",
    "        if isinstance(v, str):\n",
    "            v = to_utf8(v)\n",
    "            v = v.replace(\"Nettleseren kan ikke spille av audioen.  \", \"\")\n",
    "            second_column.append(v)\n",
    "        else:\n",
    "            second_column.append('')\n",
    "    return second_column"
   ]
  },
  {
   "cell_type": "code",
   "execution_count": 54,
   "metadata": {},
   "outputs": [],
   "source": [
    "def get_column_5(df):\n",
    "    fifth_column = []\n",
    "    for v in df[df.columns[4]]:\n",
    "        if isinstance(v, str):\n",
    "            fifth_column.append(to_utf8(v))\n",
    "        else:\n",
    "            fifth_column.append('')\n",
    "    return fifth_column\n"
   ]
  },
  {
   "attachments": {},
   "cell_type": "markdown",
   "metadata": {},
   "source": [
    "# Create the JSON file"
   ]
  },
  {
   "cell_type": "code",
   "execution_count": 64,
   "metadata": {},
   "outputs": [],
   "source": [
    "def createJson(title, url):\n",
    "    df = pd.read_html(url, encoding='UTF-8')\n",
    "    df = df[0]\n",
    "\n",
    "    a = [a + b for a, b in zip(get_column_1(df), get_column_2(df))]\n",
    "    b = get_column_5(df)\n",
    "\n",
    "    with open(title + '.json', 'w') as f:\n",
    "        f.write('[')\n",
    "        for i in range(len(a)):\n",
    "            if i != 0:\n",
    "                f.write(',')\n",
    "            f.write('{\"a\": \"' + a[i] + '\", \"b\": \"' + b[i] + '\"}')\n",
    "        f.write(']')"
   ]
  },
  {
   "cell_type": "code",
   "execution_count": 65,
   "metadata": {},
   "outputs": [],
   "source": [
    "base_url = 'https://www.ntnu.edu/web/learnnow-ua/{}/vocabulary'\n",
    "base_title = 'chapter{}'\n",
    "\n",
    "for i in range(1, 13):\n",
    "    time.sleep(0.200)\n",
    "    url = base_url.format(i)\n",
    "    title = base_title.format(i)\n",
    "    createJson(title, url)"
   ]
  }
 ],
 "metadata": {
  "kernelspec": {
   "display_name": "greenaffair",
   "language": "python",
   "name": "python3"
  },
  "language_info": {
   "codemirror_mode": {
    "name": "ipython",
    "version": 3
   },
   "file_extension": ".py",
   "mimetype": "text/x-python",
   "name": "python",
   "nbconvert_exporter": "python",
   "pygments_lexer": "ipython3",
   "version": "3.10.9"
  },
  "orig_nbformat": 4,
  "vscode": {
   "interpreter": {
    "hash": "f4c56067cc5713a3da03d09eb791ecc5565981cee461aba50a6b25e2e4ed35e9"
   }
  }
 },
 "nbformat": 4,
 "nbformat_minor": 2
}
